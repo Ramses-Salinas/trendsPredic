{
  "cells": [
    {
      "cell_type": "code",
      "execution_count": null,
      "metadata": {
        "colab": {
          "base_uri": "https://localhost:8080/"
        },
        "id": "_ZLYIvGXMvWf",
        "outputId": "724c238d-2862-495d-823b-14e3cd7566b9"
      },
      "outputs": [
        {
          "name": "stdout",
          "output_type": "stream",
          "text": [
            "Collecting tmtoolkit\n",
            "  Downloading tmtoolkit-0.12.0-py3-none-any.whl (10.5 MB)\n",
            "\u001b[2K     \u001b[90m━━━━━━━━━━━━━━━━━━━━━━━━━━━━━━━━━━━━━━━━\u001b[0m \u001b[32m10.5/10.5 MB\u001b[0m \u001b[31m16.4 MB/s\u001b[0m eta \u001b[36m0:00:00\u001b[0m\n",
            "\u001b[?25hRequirement already satisfied: numpy<2.0,>=1.23.0 in /usr/local/lib/python3.10/dist-packages (from tmtoolkit) (1.25.2)\n",
            "Requirement already satisfied: scipy<2.0,>=1.7.0 in /usr/local/lib/python3.10/dist-packages (from tmtoolkit) (1.11.4)\n",
            "Collecting globre<0.2,>=0.1.5 (from tmtoolkit)\n",
            "  Downloading globre-0.1.5.tar.gz (20 kB)\n",
            "  Preparing metadata (setup.py) ... \u001b[?25l\u001b[?25hdone\n",
            "Requirement already satisfied: pandas<3.0,>=1.4.0 in /usr/local/lib/python3.10/dist-packages (from tmtoolkit) (2.0.3)\n",
            "Requirement already satisfied: xlrd>=2.0.0 in /usr/local/lib/python3.10/dist-packages (from tmtoolkit) (2.0.1)\n",
            "Requirement already satisfied: openpyxl<4.0,>=3.0.0 in /usr/local/lib/python3.10/dist-packages (from tmtoolkit) (3.1.3)\n",
            "Requirement already satisfied: matplotlib<4.0,>=3.5.0 in /usr/local/lib/python3.10/dist-packages (from tmtoolkit) (3.7.1)\n",
            "Requirement already satisfied: bidict<1.0,>=0.21.0 in /usr/local/lib/python3.10/dist-packages (from tmtoolkit) (0.23.1)\n",
            "Requirement already satisfied: wheel<1.0,>=0.40 in /usr/local/lib/python3.10/dist-packages (from tmtoolkit) (0.43.0)\n",
            "Requirement already satisfied: contourpy>=1.0.1 in /usr/local/lib/python3.10/dist-packages (from matplotlib<4.0,>=3.5.0->tmtoolkit) (1.2.1)\n",
            "Requirement already satisfied: cycler>=0.10 in /usr/local/lib/python3.10/dist-packages (from matplotlib<4.0,>=3.5.0->tmtoolkit) (0.12.1)\n",
            "Requirement already satisfied: fonttools>=4.22.0 in /usr/local/lib/python3.10/dist-packages (from matplotlib<4.0,>=3.5.0->tmtoolkit) (4.53.0)\n",
            "Requirement already satisfied: kiwisolver>=1.0.1 in /usr/local/lib/python3.10/dist-packages (from matplotlib<4.0,>=3.5.0->tmtoolkit) (1.4.5)\n",
            "Requirement already satisfied: packaging>=20.0 in /usr/local/lib/python3.10/dist-packages (from matplotlib<4.0,>=3.5.0->tmtoolkit) (24.1)\n",
            "Requirement already satisfied: pillow>=6.2.0 in /usr/local/lib/python3.10/dist-packages (from matplotlib<4.0,>=3.5.0->tmtoolkit) (9.4.0)\n",
            "Requirement already satisfied: pyparsing>=2.3.1 in /usr/local/lib/python3.10/dist-packages (from matplotlib<4.0,>=3.5.0->tmtoolkit) (3.1.2)\n",
            "Requirement already satisfied: python-dateutil>=2.7 in /usr/local/lib/python3.10/dist-packages (from matplotlib<4.0,>=3.5.0->tmtoolkit) (2.8.2)\n",
            "Requirement already satisfied: et-xmlfile in /usr/local/lib/python3.10/dist-packages (from openpyxl<4.0,>=3.0.0->tmtoolkit) (1.1.0)\n",
            "Requirement already satisfied: pytz>=2020.1 in /usr/local/lib/python3.10/dist-packages (from pandas<3.0,>=1.4.0->tmtoolkit) (2023.4)\n",
            "Requirement already satisfied: tzdata>=2022.1 in /usr/local/lib/python3.10/dist-packages (from pandas<3.0,>=1.4.0->tmtoolkit) (2024.1)\n",
            "Requirement already satisfied: six>=1.5 in /usr/local/lib/python3.10/dist-packages (from python-dateutil>=2.7->matplotlib<4.0,>=3.5.0->tmtoolkit) (1.16.0)\n",
            "Building wheels for collected packages: globre\n",
            "  Building wheel for globre (setup.py) ... \u001b[?25l\u001b[?25hdone\n",
            "  Created wheel for globre: filename=globre-0.1.5-py3-none-any.whl size=19546 sha256=c0f584c35ccd5dbd1cbebb38cde98b4370ddaf21d62dd309edafc36769da6c49\n",
            "  Stored in directory: /root/.cache/pip/wheels/e6/c5/26/0d27e07d567b3b4e63a618efff19a2cdbab636ac1295d20206\n",
            "Successfully built globre\n",
            "Installing collected packages: globre, tmtoolkit\n",
            "Successfully installed globre-0.1.5 tmtoolkit-0.12.0\n"
          ]
        }
      ],
      "source": [
        "!pip install tmtoolkit"
      ]
    },
    {
      "cell_type": "code",
      "execution_count": null,
      "metadata": {
        "colab": {
          "base_uri": "https://localhost:8080/"
        },
        "id": "S9g4p-UpM2bD",
        "outputId": "9e754a06-c33e-4913-e3e0-0a2e57e9264c"
      },
      "outputs": [
        {
          "name": "stdout",
          "output_type": "stream",
          "text": [
            "Collecting loky\n",
            "  Downloading loky-3.4.1-py3-none-any.whl (54 kB)\n",
            "\u001b[?25l     \u001b[90m━━━━━━━━━━━━━━━━━━━━━━━━━━━━━━━━━━━━━━━━\u001b[0m \u001b[32m0.0/54.6 kB\u001b[0m \u001b[31m?\u001b[0m eta \u001b[36m-:--:--\u001b[0m\r\u001b[2K     \u001b[90m━━━━━━━━━━━━━━━━━━━━━━━━━━━━━━━━━━━━━━━━\u001b[0m \u001b[32m54.6/54.6 kB\u001b[0m \u001b[31m1.8 MB/s\u001b[0m eta \u001b[36m0:00:00\u001b[0m\n",
            "\u001b[?25hRequirement already satisfied: cloudpickle in /usr/local/lib/python3.10/dist-packages (from loky) (2.2.1)\n",
            "Installing collected packages: loky\n",
            "Successfully installed loky-3.4.1\n"
          ]
        }
      ],
      "source": [
        "!pip install loky"
      ]
    },
    {
      "cell_type": "code",
      "execution_count": null,
      "metadata": {
        "colab": {
          "base_uri": "https://localhost:8080/"
        },
        "id": "XDyh-jbMM6Ts",
        "outputId": "23fe44f2-85c4-470a-ddbe-a6fbcecb1758"
      },
      "outputs": [
        {
          "name": "stdout",
          "output_type": "stream",
          "text": [
            "Collecting es-core-news-sm==3.7.0\n",
            "  Downloading https://github.com/explosion/spacy-models/releases/download/es_core_news_sm-3.7.0/es_core_news_sm-3.7.0-py3-none-any.whl (12.9 MB)\n",
            "\u001b[2K     \u001b[90m━━━━━━━━━━━━━━━━━━━━━━━━━━━━━━━━━━━━━━━━\u001b[0m \u001b[32m12.9/12.9 MB\u001b[0m \u001b[31m24.5 MB/s\u001b[0m eta \u001b[36m0:00:00\u001b[0m\n",
            "\u001b[?25hRequirement already satisfied: spacy<3.8.0,>=3.7.0 in /usr/local/lib/python3.10/dist-packages (from es-core-news-sm==3.7.0) (3.7.5)\n",
            "Requirement already satisfied: spacy-legacy<3.1.0,>=3.0.11 in /usr/local/lib/python3.10/dist-packages (from spacy<3.8.0,>=3.7.0->es-core-news-sm==3.7.0) (3.0.12)\n",
            "Requirement already satisfied: spacy-loggers<2.0.0,>=1.0.0 in /usr/local/lib/python3.10/dist-packages (from spacy<3.8.0,>=3.7.0->es-core-news-sm==3.7.0) (1.0.5)\n",
            "Requirement already satisfied: murmurhash<1.1.0,>=0.28.0 in /usr/local/lib/python3.10/dist-packages (from spacy<3.8.0,>=3.7.0->es-core-news-sm==3.7.0) (1.0.10)\n",
            "Requirement already satisfied: cymem<2.1.0,>=2.0.2 in /usr/local/lib/python3.10/dist-packages (from spacy<3.8.0,>=3.7.0->es-core-news-sm==3.7.0) (2.0.8)\n",
            "Requirement already satisfied: preshed<3.1.0,>=3.0.2 in /usr/local/lib/python3.10/dist-packages (from spacy<3.8.0,>=3.7.0->es-core-news-sm==3.7.0) (3.0.9)\n",
            "Requirement already satisfied: thinc<8.3.0,>=8.2.2 in /usr/local/lib/python3.10/dist-packages (from spacy<3.8.0,>=3.7.0->es-core-news-sm==3.7.0) (8.2.4)\n",
            "Requirement already satisfied: wasabi<1.2.0,>=0.9.1 in /usr/local/lib/python3.10/dist-packages (from spacy<3.8.0,>=3.7.0->es-core-news-sm==3.7.0) (1.1.3)\n",
            "Requirement already satisfied: srsly<3.0.0,>=2.4.3 in /usr/local/lib/python3.10/dist-packages (from spacy<3.8.0,>=3.7.0->es-core-news-sm==3.7.0) (2.4.8)\n",
            "Requirement already satisfied: catalogue<2.1.0,>=2.0.6 in /usr/local/lib/python3.10/dist-packages (from spacy<3.8.0,>=3.7.0->es-core-news-sm==3.7.0) (2.0.10)\n",
            "Requirement already satisfied: weasel<0.5.0,>=0.1.0 in /usr/local/lib/python3.10/dist-packages (from spacy<3.8.0,>=3.7.0->es-core-news-sm==3.7.0) (0.4.1)\n",
            "Requirement already satisfied: typer<1.0.0,>=0.3.0 in /usr/local/lib/python3.10/dist-packages (from spacy<3.8.0,>=3.7.0->es-core-news-sm==3.7.0) (0.12.3)\n",
            "Requirement already satisfied: tqdm<5.0.0,>=4.38.0 in /usr/local/lib/python3.10/dist-packages (from spacy<3.8.0,>=3.7.0->es-core-news-sm==3.7.0) (4.66.4)\n",
            "Requirement already satisfied: requests<3.0.0,>=2.13.0 in /usr/local/lib/python3.10/dist-packages (from spacy<3.8.0,>=3.7.0->es-core-news-sm==3.7.0) (2.31.0)\n",
            "Requirement already satisfied: pydantic!=1.8,!=1.8.1,<3.0.0,>=1.7.4 in /usr/local/lib/python3.10/dist-packages (from spacy<3.8.0,>=3.7.0->es-core-news-sm==3.7.0) (2.7.3)\n",
            "Requirement already satisfied: jinja2 in /usr/local/lib/python3.10/dist-packages (from spacy<3.8.0,>=3.7.0->es-core-news-sm==3.7.0) (3.1.4)\n",
            "Requirement already satisfied: setuptools in /usr/local/lib/python3.10/dist-packages (from spacy<3.8.0,>=3.7.0->es-core-news-sm==3.7.0) (67.7.2)\n",
            "Requirement already satisfied: packaging>=20.0 in /usr/local/lib/python3.10/dist-packages (from spacy<3.8.0,>=3.7.0->es-core-news-sm==3.7.0) (24.1)\n",
            "Requirement already satisfied: langcodes<4.0.0,>=3.2.0 in /usr/local/lib/python3.10/dist-packages (from spacy<3.8.0,>=3.7.0->es-core-news-sm==3.7.0) (3.4.0)\n",
            "Requirement already satisfied: numpy>=1.19.0 in /usr/local/lib/python3.10/dist-packages (from spacy<3.8.0,>=3.7.0->es-core-news-sm==3.7.0) (1.25.2)\n",
            "Requirement already satisfied: language-data>=1.2 in /usr/local/lib/python3.10/dist-packages (from langcodes<4.0.0,>=3.2.0->spacy<3.8.0,>=3.7.0->es-core-news-sm==3.7.0) (1.2.0)\n",
            "Requirement already satisfied: annotated-types>=0.4.0 in /usr/local/lib/python3.10/dist-packages (from pydantic!=1.8,!=1.8.1,<3.0.0,>=1.7.4->spacy<3.8.0,>=3.7.0->es-core-news-sm==3.7.0) (0.7.0)\n",
            "Requirement already satisfied: pydantic-core==2.18.4 in /usr/local/lib/python3.10/dist-packages (from pydantic!=1.8,!=1.8.1,<3.0.0,>=1.7.4->spacy<3.8.0,>=3.7.0->es-core-news-sm==3.7.0) (2.18.4)\n",
            "Requirement already satisfied: typing-extensions>=4.6.1 in /usr/local/lib/python3.10/dist-packages (from pydantic!=1.8,!=1.8.1,<3.0.0,>=1.7.4->spacy<3.8.0,>=3.7.0->es-core-news-sm==3.7.0) (4.12.2)\n",
            "Requirement already satisfied: charset-normalizer<4,>=2 in /usr/local/lib/python3.10/dist-packages (from requests<3.0.0,>=2.13.0->spacy<3.8.0,>=3.7.0->es-core-news-sm==3.7.0) (3.3.2)\n",
            "Requirement already satisfied: idna<4,>=2.5 in /usr/local/lib/python3.10/dist-packages (from requests<3.0.0,>=2.13.0->spacy<3.8.0,>=3.7.0->es-core-news-sm==3.7.0) (3.7)\n",
            "Requirement already satisfied: urllib3<3,>=1.21.1 in /usr/local/lib/python3.10/dist-packages (from requests<3.0.0,>=2.13.0->spacy<3.8.0,>=3.7.0->es-core-news-sm==3.7.0) (2.0.7)\n",
            "Requirement already satisfied: certifi>=2017.4.17 in /usr/local/lib/python3.10/dist-packages (from requests<3.0.0,>=2.13.0->spacy<3.8.0,>=3.7.0->es-core-news-sm==3.7.0) (2024.6.2)\n",
            "Requirement already satisfied: blis<0.8.0,>=0.7.8 in /usr/local/lib/python3.10/dist-packages (from thinc<8.3.0,>=8.2.2->spacy<3.8.0,>=3.7.0->es-core-news-sm==3.7.0) (0.7.11)\n",
            "Requirement already satisfied: confection<1.0.0,>=0.0.1 in /usr/local/lib/python3.10/dist-packages (from thinc<8.3.0,>=8.2.2->spacy<3.8.0,>=3.7.0->es-core-news-sm==3.7.0) (0.1.5)\n",
            "Requirement already satisfied: click>=8.0.0 in /usr/local/lib/python3.10/dist-packages (from typer<1.0.0,>=0.3.0->spacy<3.8.0,>=3.7.0->es-core-news-sm==3.7.0) (8.1.7)\n",
            "Requirement already satisfied: shellingham>=1.3.0 in /usr/local/lib/python3.10/dist-packages (from typer<1.0.0,>=0.3.0->spacy<3.8.0,>=3.7.0->es-core-news-sm==3.7.0) (1.5.4)\n",
            "Requirement already satisfied: rich>=10.11.0 in /usr/local/lib/python3.10/dist-packages (from typer<1.0.0,>=0.3.0->spacy<3.8.0,>=3.7.0->es-core-news-sm==3.7.0) (13.7.1)\n",
            "Requirement already satisfied: cloudpathlib<1.0.0,>=0.7.0 in /usr/local/lib/python3.10/dist-packages (from weasel<0.5.0,>=0.1.0->spacy<3.8.0,>=3.7.0->es-core-news-sm==3.7.0) (0.18.1)\n",
            "Requirement already satisfied: smart-open<8.0.0,>=5.2.1 in /usr/local/lib/python3.10/dist-packages (from weasel<0.5.0,>=0.1.0->spacy<3.8.0,>=3.7.0->es-core-news-sm==3.7.0) (7.0.4)\n",
            "Requirement already satisfied: MarkupSafe>=2.0 in /usr/local/lib/python3.10/dist-packages (from jinja2->spacy<3.8.0,>=3.7.0->es-core-news-sm==3.7.0) (2.1.5)\n",
            "Requirement already satisfied: marisa-trie>=0.7.7 in /usr/local/lib/python3.10/dist-packages (from language-data>=1.2->langcodes<4.0.0,>=3.2.0->spacy<3.8.0,>=3.7.0->es-core-news-sm==3.7.0) (1.2.0)\n",
            "Requirement already satisfied: markdown-it-py>=2.2.0 in /usr/local/lib/python3.10/dist-packages (from rich>=10.11.0->typer<1.0.0,>=0.3.0->spacy<3.8.0,>=3.7.0->es-core-news-sm==3.7.0) (3.0.0)\n",
            "Requirement already satisfied: pygments<3.0.0,>=2.13.0 in /usr/local/lib/python3.10/dist-packages (from rich>=10.11.0->typer<1.0.0,>=0.3.0->spacy<3.8.0,>=3.7.0->es-core-news-sm==3.7.0) (2.16.1)\n",
            "Requirement already satisfied: wrapt in /usr/local/lib/python3.10/dist-packages (from smart-open<8.0.0,>=5.2.1->weasel<0.5.0,>=0.1.0->spacy<3.8.0,>=3.7.0->es-core-news-sm==3.7.0) (1.14.1)\n",
            "Requirement already satisfied: mdurl~=0.1 in /usr/local/lib/python3.10/dist-packages (from markdown-it-py>=2.2.0->rich>=10.11.0->typer<1.0.0,>=0.3.0->spacy<3.8.0,>=3.7.0->es-core-news-sm==3.7.0) (0.1.2)\n",
            "Installing collected packages: es-core-news-sm\n",
            "Successfully installed es-core-news-sm-3.7.0\n",
            "\u001b[38;5;2m✔ Download and installation successful\u001b[0m\n",
            "You can now load the package via spacy.load('es_core_news_sm')\n",
            "\u001b[38;5;3m⚠ Restart to reload dependencies\u001b[0m\n",
            "If you are in a Jupyter or Colab notebook, you may need to restart Python in\n",
            "order to load all the package's dependencies. You can do this by selecting the\n",
            "'Restart kernel' or 'Restart runtime' option.\n"
          ]
        }
      ],
      "source": [
        "!python -m spacy download es_core_news_sm"
      ]
    },
    {
      "cell_type": "code",
      "execution_count": null,
      "metadata": {
        "colab": {
          "base_uri": "https://localhost:8080/"
        },
        "id": "32-lK5VFM9tb",
        "outputId": "dda3e600-4ea6-4f19-e56a-a49eff755a19"
      },
      "outputs": [
        {
          "name": "stdout",
          "output_type": "stream",
          "text": [
            "Collecting lda\n",
            "  Downloading lda-3.0.0-cp310-cp310-manylinux_2_17_x86_64.manylinux2014_x86_64.whl (349 kB)\n",
            "\u001b[?25l     \u001b[90m━━━━━━━━━━━━━━━━━━━━━━━━━━━━━━━━━━━━━━━━\u001b[0m \u001b[32m0.0/349.8 kB\u001b[0m \u001b[31m?\u001b[0m eta \u001b[36m-:--:--\u001b[0m\r\u001b[2K     \u001b[91m━━━━━━━━━━━━\u001b[0m\u001b[91m╸\u001b[0m\u001b[90m━━━━━━━━━━━━━━━━━━━━━━━━━━━\u001b[0m \u001b[32m112.6/349.8 kB\u001b[0m \u001b[31m3.1 MB/s\u001b[0m eta \u001b[36m0:00:01\u001b[0m\r\u001b[2K     \u001b[91m━━━━━━━━━━━━━━━━━━━━━━━━━━━━━━━━━━━━━━━\u001b[0m\u001b[91m╸\u001b[0m \u001b[32m348.2/349.8 kB\u001b[0m \u001b[31m5.2 MB/s\u001b[0m eta \u001b[36m0:00:01\u001b[0m\r\u001b[2K     \u001b[90m━━━━━━━━━━━━━━━━━━━━━━━━━━━━━━━━━━━━━━━━\u001b[0m \u001b[32m349.8/349.8 kB\u001b[0m \u001b[31m4.5 MB/s\u001b[0m eta \u001b[36m0:00:00\u001b[0m\n",
            "\u001b[?25hRequirement already satisfied: numpy<2.0,>=1.13.0 in /usr/local/lib/python3.10/dist-packages (from lda) (1.25.2)\n",
            "Installing collected packages: lda\n",
            "Successfully installed lda-3.0.0\n"
          ]
        }
      ],
      "source": [
        "!pip install lda"
      ]
    },
    {
      "cell_type": "code",
      "execution_count": 1,
      "metadata": {
        "colab": {
          "base_uri": "https://localhost:8080/"
        },
        "id": "DiZyqG5ANBvr",
        "outputId": "686faaf8-fa0c-435e-dc0c-09fb8998dd20"
      },
      "outputs": [
        {
          "name": "stderr",
          "output_type": "stream",
          "text": [
            "d:\\anaconda3\\lib\\site-packages\\pandas\\core\\arrays\\masked.py:60: UserWarning: Pandas requires version '1.3.6' or newer of 'bottleneck' (version '1.3.5' currently installed).\n",
            "  from pandas.core import (\n"
          ]
        },
        {
          "name": "stdout",
          "output_type": "stream",
          "text": [
            "Hello\n"
          ]
        }
      ],
      "source": [
        "from tmtoolkit.corpus import Corpus\n",
        "from tmtoolkit.corpus import doc_labels\n",
        "from tmtoolkit.corpus import to_lowercase\n",
        "from tmtoolkit.corpus import lemmatize\n",
        "from tmtoolkit.corpus import remove_chars\n",
        "from tmtoolkit.corpus import remove_punctuation\n",
        "from tmtoolkit.corpus import filter_clean_tokens\n",
        "from tmtoolkit.corpus import doc_tokens\n",
        "from tmtoolkit.corpus import dtm\n",
        "from tmtoolkit.topicmod.tm_lda import compute_models_parallel\n",
        "from tmtoolkit.topicmod.model_io import print_ldamodel_topic_words\n",
        "from bs4 import BeautifulSoup\n",
        "import requests\n",
        "import json\n",
        "import pandas as pd\n",
        "from collections import Counter\n",
        "from sklearn.preprocessing import MinMaxScaler\n",
        "\n",
        "\n",
        "print(\"Hello\")"
      ]
    },
    {
      "cell_type": "markdown",
      "metadata": {
        "id": "G-CYTs9qO_m_"
      },
      "source": [
        "Leer CSV de datos historicos"
      ]
    },
    {
      "cell_type": "code",
      "execution_count": 2,
      "metadata": {
        "colab": {
          "base_uri": "https://localhost:8080/"
        },
        "id": "8yQuV_UMPHjV",
        "outputId": "93a01b64-c3f0-4dfc-cf84-45b477718b75"
      },
      "outputs": [
        {
          "name": "stderr",
          "output_type": "stream",
          "text": [
            "C:\\Users\\Ramses.DESKTOP-NKK4BE4\\AppData\\Local\\Temp\\ipykernel_30116\\1660441208.py:3: DtypeWarning: Columns (8,12,52,56) have mixed types. Specify dtype option on import or set low_memory=False.\n",
            "  df2018 = pd.read_csv('output2018.csv')\n"
          ]
        },
        {
          "name": "stdout",
          "output_type": "stream",
          "text": [
            "Index(['id', 'Unnamed: 0', 'collector', 'country', 'un_subregion', 'so_region',\n",
            "       'age_range', 'age_midpoint', 'gender', 'self_identification',\n",
            "       'occupation', 'occupation_group', 'experience_range',\n",
            "       'experience_midpoint', 'salary_range', 'salary_midpoint',\n",
            "       'big_mac_index', 'tech_do', 'tech_want', 'aliens',\n",
            "       'programming_ability', 'employment_status', 'industry',\n",
            "       'company_size_range', 'team_size_range', 'women_on_team', 'remote',\n",
            "       'job_satisfaction', 'job_discovery', 'dev_environment',\n",
            "       'commit_frequency', 'hobby', 'dogs_vs_cats', 'desktop_os',\n",
            "       'unit_testing', 'rep_range', 'visit_frequency', 'why_learn_new_tech',\n",
            "       'education', 'open_to_new_job', 'new_job_value', 'job_search_annoyance',\n",
            "       'interview_likelihood', 'how_to_improve_interview_process',\n",
            "       'star_wars_vs_star_trek', 'agree_tech', 'agree_notice',\n",
            "       'agree_problemsolving', 'agree_diversity', 'agree_adblocker',\n",
            "       'agree_alcohol', 'agree_loveboss', 'agree_nightcode', 'agree_legacy',\n",
            "       'agree_mars', 'important_variety', 'important_control',\n",
            "       'important_sameend', 'important_newtech', 'important_buildnew',\n",
            "       'important_buildexisting', 'important_promotion',\n",
            "       'important_companymission', 'important_wfh', 'important_ownoffice',\n",
            "       'developer_challenges', 'why_stack_overflow'],\n",
            "      dtype='object')\n",
            "Index(['Respondent', 'Professional', 'ProgramHobby', 'Country', 'University',\n",
            "       'EmploymentStatus', 'FormalEducation', 'MajorUndergrad', 'HomeRemote',\n",
            "       'CompanySize',\n",
            "       ...\n",
            "       'StackOverflowMakeMoney', 'Gender', 'HighestEducationParents', 'Race',\n",
            "       'SurveyLong', 'QuestionsInteresting', 'QuestionsConfusing',\n",
            "       'InterestedAnswers', 'Salary', 'ExpectedSalary'],\n",
            "      dtype='object', length=154)\n",
            "Index(['Respondent', 'Hobby', 'OpenSource', 'Country', 'Student', 'Employment',\n",
            "       'FormalEducation', 'UndergradMajor', 'CompanySize', 'DevType',\n",
            "       ...\n",
            "       'Exercise', 'Gender', 'SexualOrientation', 'EducationParents',\n",
            "       'RaceEthnicity', 'Age', 'Dependents', 'MilitaryUS', 'SurveyTooLong',\n",
            "       'SurveyEasy'],\n",
            "      dtype='object', length=129)\n",
            "Index(['Respondent', 'MainBranch', 'Hobbyist', 'OpenSourcer', 'OpenSource',\n",
            "       'Employment', 'Country', 'Student', 'EdLevel', 'UndergradMajor',\n",
            "       'EduOther', 'OrgSize', 'DevType', 'YearsCode', 'Age1stCode',\n",
            "       'YearsCodePro', 'CareerSat', 'JobSat', 'MgrIdiot', 'MgrMoney',\n",
            "       'MgrWant', 'JobSeek', 'LastHireDate', 'LastInt', 'FizzBuzz',\n",
            "       'JobFactors', 'ResumeUpdate', 'CurrencySymbol', 'CurrencyDesc',\n",
            "       'CompTotal', 'CompFreq', 'ConvertedComp', 'WorkWeekHrs', 'WorkPlan',\n",
            "       'WorkChallenge', 'WorkRemote', 'WorkLoc', 'ImpSyn', 'CodeRev',\n",
            "       'CodeRevHrs', 'UnitTests', 'PurchaseHow', 'PurchaseWhat',\n",
            "       'LanguageWorkedWith', 'LanguageDesireNextYear', 'DatabaseWorkedWith',\n",
            "       'DatabaseDesireNextYear', 'PlatformWorkedWith',\n",
            "       'PlatformDesireNextYear', 'WebFrameWorkedWith',\n",
            "       'WebFrameDesireNextYear', 'MiscTechWorkedWith',\n",
            "       'MiscTechDesireNextYear', 'DevEnviron', 'OpSys', 'Containers',\n",
            "       'BlockchainOrg', 'BlockchainIs', 'BetterLife', 'ITperson', 'OffOn',\n",
            "       'SocialMedia', 'Extraversion', 'ScreenName', 'SOVisit1st',\n",
            "       'SOVisitFreq', 'SOVisitTo', 'SOFindAnswer', 'SOTimeSaved',\n",
            "       'SOHowMuchTime', 'SOAccount', 'SOPartFreq', 'SOJobs', 'EntTeams',\n",
            "       'SOComm', 'WelcomeChange', 'SONewContent', 'Age', 'Gender', 'Trans',\n",
            "       'Sexuality', 'Ethnicity', 'Dependents', 'SurveyLength', 'SurveyEase'],\n",
            "      dtype='object')\n",
            "Index(['Respondent', 'MainBranch', 'Hobbyist', 'Age', 'Age1stCode', 'CompFreq',\n",
            "       'CompTotal', 'ConvertedComp', 'Country', 'CurrencyDesc',\n",
            "       'CurrencySymbol', 'DatabaseDesireNextYear', 'DatabaseWorkedWith',\n",
            "       'DevType', 'EdLevel', 'Employment', 'Ethnicity', 'Gender', 'JobFactors',\n",
            "       'JobSat', 'JobSeek', 'LanguageDesireNextYear', 'LanguageWorkedWith',\n",
            "       'MiscTechDesireNextYear', 'MiscTechWorkedWith',\n",
            "       'NEWCollabToolsDesireNextYear', 'NEWCollabToolsWorkedWith', 'NEWDevOps',\n",
            "       'NEWDevOpsImpt', 'NEWEdImpt', 'NEWJobHunt', 'NEWJobHuntResearch',\n",
            "       'NEWLearn', 'NEWOffTopic', 'NEWOnboardGood', 'NEWOtherComms',\n",
            "       'NEWOvertime', 'NEWPurchaseResearch', 'NEWPurpleLink', 'NEWSOSites',\n",
            "       'NEWStuck', 'OpSys', 'OrgSize', 'PlatformDesireNextYear',\n",
            "       'PlatformWorkedWith', 'PurchaseWhat', 'Sexuality', 'SOAccount',\n",
            "       'SOComm', 'SOPartFreq', 'SOVisitFreq', 'SurveyEase', 'SurveyLength',\n",
            "       'Trans', 'UndergradMajor', 'WebframeDesireNextYear',\n",
            "       'WebframeWorkedWith', 'WelcomeChange', 'WorkWeekHrs', 'YearsCode',\n",
            "       'YearsCodePro'],\n",
            "      dtype='object')\n",
            "Index(['ResponseId', 'MainBranch', 'Employment', 'Country', 'US_State',\n",
            "       'UK_Country', 'EdLevel', 'Age1stCode', 'LearnCode', 'YearsCode',\n",
            "       'YearsCodePro', 'DevType', 'OrgSize', 'Currency', 'CompTotal',\n",
            "       'CompFreq', 'LanguageHaveWorkedWith', 'LanguageWantToWorkWith',\n",
            "       'DatabaseHaveWorkedWith', 'DatabaseWantToWorkWith',\n",
            "       'PlatformHaveWorkedWith', 'PlatformWantToWorkWith',\n",
            "       'WebframeHaveWorkedWith', 'WebframeWantToWorkWith',\n",
            "       'MiscTechHaveWorkedWith', 'MiscTechWantToWorkWith',\n",
            "       'ToolsTechHaveWorkedWith', 'ToolsTechWantToWorkWith',\n",
            "       'NEWCollabToolsHaveWorkedWith', 'NEWCollabToolsWantToWorkWith', 'OpSys',\n",
            "       'NEWStuck', 'NEWSOSites', 'SOVisitFreq', 'SOAccount', 'SOPartFreq',\n",
            "       'SOComm', 'NEWOtherComms', 'Age', 'Gender', 'Trans', 'Sexuality',\n",
            "       'Ethnicity', 'Accessibility', 'MentalHealth', 'SurveyLength',\n",
            "       'SurveyEase', 'ConvertedCompYearly'],\n",
            "      dtype='object')\n",
            "Index(['ResponseId', 'MainBranch', 'Employment', 'RemoteWork',\n",
            "       'CodingActivities', 'EdLevel', 'LearnCode', 'LearnCodeOnline',\n",
            "       'LearnCodeCoursesCert', 'YearsCode', 'YearsCodePro', 'DevType',\n",
            "       'OrgSize', 'PurchaseInfluence', 'BuyNewTool', 'Country', 'Currency',\n",
            "       'CompTotal', 'CompFreq', 'LanguageHaveWorkedWith',\n",
            "       'LanguageWantToWorkWith', 'DatabaseHaveWorkedWith',\n",
            "       'DatabaseWantToWorkWith', 'PlatformHaveWorkedWith',\n",
            "       'PlatformWantToWorkWith', 'WebframeHaveWorkedWith',\n",
            "       'WebframeWantToWorkWith', 'MiscTechHaveWorkedWith',\n",
            "       'MiscTechWantToWorkWith', 'ToolsTechHaveWorkedWith',\n",
            "       'ToolsTechWantToWorkWith', 'NEWCollabToolsHaveWorkedWith',\n",
            "       'NEWCollabToolsWantToWorkWith', 'OpSysProfessional use',\n",
            "       'OpSysPersonal use', 'VersionControlSystem', 'VCInteraction',\n",
            "       'VCHostingPersonal use', 'VCHostingProfessional use',\n",
            "       'OfficeStackAsyncHaveWorkedWith', 'OfficeStackAsyncWantToWorkWith',\n",
            "       'OfficeStackSyncHaveWorkedWith', 'OfficeStackSyncWantToWorkWith',\n",
            "       'Blockchain', 'NEWSOSites', 'SOVisitFreq', 'SOAccount', 'SOPartFreq',\n",
            "       'SOComm', 'Age', 'Gender', 'Trans', 'Sexuality', 'Ethnicity',\n",
            "       'Accessibility', 'MentalHealth', 'TBranch', 'ICorPM', 'WorkExp',\n",
            "       'Knowledge_1', 'Knowledge_2', 'Knowledge_3', 'Knowledge_4',\n",
            "       'Knowledge_5', 'Knowledge_6', 'Knowledge_7', 'Frequency_1',\n",
            "       'Frequency_2', 'Frequency_3', 'TimeSearching', 'TimeAnswering',\n",
            "       'Onboarding', 'ProfessionalTech', 'TrueFalse_1', 'TrueFalse_2',\n",
            "       'TrueFalse_3', 'SurveyLength', 'SurveyEase', 'ConvertedCompYearly'],\n",
            "      dtype='object')\n",
            "Index(['ResponseId', 'Q120', 'MainBranch', 'Age', 'Employment', 'RemoteWork',\n",
            "       'CodingActivities', 'EdLevel', 'LearnCode', 'LearnCodeOnline',\n",
            "       'LearnCodeCoursesCert', 'YearsCode', 'YearsCodePro', 'DevType',\n",
            "       'OrgSize', 'PurchaseInfluence', 'TechList', 'BuyNewTool', 'Country',\n",
            "       'Currency', 'CompTotal', 'LanguageHaveWorkedWith',\n",
            "       'LanguageWantToWorkWith', 'DatabaseHaveWorkedWith',\n",
            "       'DatabaseWantToWorkWith', 'PlatformHaveWorkedWith',\n",
            "       'PlatformWantToWorkWith', 'WebframeHaveWorkedWith',\n",
            "       'WebframeWantToWorkWith', 'MiscTechHaveWorkedWith',\n",
            "       'MiscTechWantToWorkWith', 'ToolsTechHaveWorkedWith',\n",
            "       'ToolsTechWantToWorkWith', 'NEWCollabToolsHaveWorkedWith',\n",
            "       'NEWCollabToolsWantToWorkWith', 'OpSysPersonal use',\n",
            "       'OpSysProfessional use', 'OfficeStackAsyncHaveWorkedWith',\n",
            "       'OfficeStackAsyncWantToWorkWith', 'OfficeStackSyncHaveWorkedWith',\n",
            "       'OfficeStackSyncWantToWorkWith', 'AISearchHaveWorkedWith',\n",
            "       'AISearchWantToWorkWith', 'AIDevHaveWorkedWith', 'AIDevWantToWorkWith',\n",
            "       'NEWSOSites', 'SOVisitFreq', 'SOAccount', 'SOPartFreq', 'SOComm',\n",
            "       'SOAI', 'AISelect', 'AISent', 'AIAcc', 'AIBen',\n",
            "       'AIToolInterested in Using', 'AIToolCurrently Using',\n",
            "       'AIToolNot interested in Using', 'AINextVery different',\n",
            "       'AINextNeither different nor similar', 'AINextSomewhat similar',\n",
            "       'AINextVery similar', 'AINextSomewhat different', 'TBranch', 'ICorPM',\n",
            "       'WorkExp', 'Knowledge_1', 'Knowledge_2', 'Knowledge_3', 'Knowledge_4',\n",
            "       'Knowledge_5', 'Knowledge_6', 'Knowledge_7', 'Knowledge_8',\n",
            "       'Frequency_1', 'Frequency_2', 'Frequency_3', 'TimeSearching',\n",
            "       'TimeAnswering', 'ProfessionalTech', 'Industry', 'SurveyLength',\n",
            "       'SurveyEase', 'ConvertedCompYearly'],\n",
            "      dtype='object')\n"
          ]
        },
        {
          "name": "stderr",
          "output_type": "stream",
          "text": [
            "C:\\Users\\Ramses.DESKTOP-NKK4BE4\\AppData\\Local\\Temp\\ipykernel_30116\\1660441208.py:8: DtypeWarning: Columns (50) have mixed types. Specify dtype option on import or set low_memory=False.\n",
            "  df2023 = pd.read_csv('output2023.csv')\n"
          ]
        }
      ],
      "source": [
        "df2016 = pd.read_csv('output2016.csv')\n",
        "df2017 = pd.read_csv('output2017.csv')\n",
        "df2018 = pd.read_csv('output2018.csv')\n",
        "df2019 = pd.read_csv('output2019.csv')\n",
        "df2020 = pd.read_csv('output2020.csv')\n",
        "df2021 = pd.read_csv('output2021.csv')\n",
        "df2022 = pd.read_csv('output2022.csv')\n",
        "df2023 = pd.read_csv('output2023.csv')\n",
        "#print(df.head())\n",
        "print(df2016.columns)\n",
        "print(df2017.columns)\n",
        "print(df2018.columns)\n",
        "print(df2019.columns)\n",
        "print(df2020.columns)\n",
        "print(df2021.columns)\n",
        "print(df2022.columns)\n",
        "print(df2023.columns)"
      ]
    },
    {
      "cell_type": "code",
      "execution_count": 4,
      "metadata": {
        "colab": {
          "base_uri": "https://localhost:8080/"
        },
        "id": "9q4FOkuucyqF",
        "outputId": "abcb2000-645e-4fda-c5cc-00007e95149b"
      },
      "outputs": [
        {
          "name": "stdout",
          "output_type": "stream",
          "text": [
            "0                          AngularJS; Java; JavaScript\n",
            "1    AngularJS; C#; Cloud (AWS, GAE, Azure, etc.); ...\n",
            "2                                    SQL; Visual Basic\n",
            "3        C#; JavaScript; SQL; SQL Server; Visual Basic\n",
            "4                                                  NaN\n",
            "Name: tech_do, dtype: object\n",
            "0                            Swift\n",
            "1    JavaScript; Python; Ruby; SQL\n",
            "2                Java; PHP; Python\n",
            "3           Matlab; Python; R; SQL\n",
            "4                              NaN\n",
            "Name: HaveWorkedLanguage, dtype: object\n",
            "0                          JavaScript;Python;HTML;CSS\n",
            "1                        JavaScript;Python;Bash/Shell\n",
            "2                                                 NaN\n",
            "3    C#;JavaScript;SQL;TypeScript;HTML;CSS;Bash/Shell\n",
            "4                  C;C++;Java;Matlab;R;SQL;Bash/Shell\n",
            "Name: LanguageWorkedWith, dtype: object\n",
            "0                HTML/CSS;Java;JavaScript;Python\n",
            "1                            C++;HTML/CSS;Python\n",
            "2                                       HTML/CSS\n",
            "3                            C;C++;C#;Python;SQL\n",
            "4    C++;HTML/CSS;Java;JavaScript;Python;SQL;VBA\n",
            "Name: LanguageWorkedWith, dtype: object\n",
            "0      C#;HTML/CSS;JavaScript\n",
            "1            JavaScript;Swift\n",
            "2    Objective-C;Python;Swift\n",
            "3                         NaN\n",
            "4           HTML/CSS;Ruby;SQL\n",
            "Name: LanguageWorkedWith, dtype: object\n",
            "0    C++;HTML/CSS;JavaScript;Objective-C;PHP;Swift\n",
            "1                                JavaScript;Python\n",
            "2                         Assembly;C;Python;R;Rust\n",
            "3                            JavaScript;TypeScript\n",
            "4                   Bash/Shell;HTML/CSS;Python;SQL\n",
            "Name: LanguageHaveWorkedWith, dtype: object\n",
            "0                                            NaN\n",
            "1                          JavaScript;TypeScript\n",
            "2              C#;C++;HTML/CSS;JavaScript;Python\n",
            "3                   C#;JavaScript;SQL;TypeScript\n",
            "4    C#;HTML/CSS;JavaScript;SQL;Swift;TypeScript\n",
            "Name: LanguageHaveWorkedWith, dtype: object\n",
            "0                HTML/CSS;JavaScript;Python;TypeScript\n",
            "1    Assembly;Bash/Shell (all shells);C;C++;Cobol;E...\n",
            "2                    C#;Flow;JavaScript;SQL;TypeScript\n",
            "3                                         Python;R;SQL\n",
            "4                             C#;JavaScript;TypeScript\n",
            "Name: LanguageHaveWorkedWith, dtype: object\n"
          ]
        }
      ],
      "source": [
        "tech_do2016 = df2016['tech_do']\n",
        "tech_do2017 = df2017['HaveWorkedLanguage']\n",
        "tech_do2018 = df2018['LanguageWorkedWith']\n",
        "tech_do2019 = df2019['LanguageWorkedWith']\n",
        "tech_do2020 = df2020['LanguageWorkedWith']\n",
        "tech_do2021 = df2021['LanguageHaveWorkedWith']\n",
        "tech_do2022 = df2022['LanguageHaveWorkedWith']\n",
        "tech_do2023 = df2023['LanguageHaveWorkedWith']\n",
        "print(tech_do2016.head())\n",
        "print(tech_do2017.head())\n",
        "print(tech_do2018.head())\n",
        "print(tech_do2019.head())\n",
        "print(tech_do2020.head())\n",
        "print(tech_do2021.head())\n",
        "print(tech_do2022.head())\n",
        "print(tech_do2023.head())"
      ]
    },
    {
      "cell_type": "code",
      "execution_count": 5,
      "metadata": {
        "colab": {
          "base_uri": "https://localhost:8080/"
        },
        "id": "w2i9EwNOZeev",
        "outputId": "3cb8b81d-8e31-4c7f-9d6a-1188d1ab492f"
      },
      "outputs": [
        {
          "name": "stdout",
          "output_type": "stream",
          "text": [
            "JavaScript: 27385\n",
            "SQL: 21976\n",
            "Java: 17942\n",
            "C#: 15283\n",
            "PHP: 12780\n",
            "Python: 12282\n",
            "C++: 9589\n",
            "SQL Server: 9306\n",
            "AngularJS: 8823\n",
            "Android: 8601\n",
            "Node.js: 8509\n",
            "C: 7678\n",
            "LAMP: 4821\n",
            "MongoDB: 4780\n",
            "Cloud (AWS, GAE, Azure, etc.): 4629\n",
            "iOS: 4498\n",
            "WordPress: 4496\n",
            "Ruby: 4383\n",
            "Arduino / Raspberry Pi: 3797\n",
            "Visual Basic: 3312\n",
            "Objective-C: 3202\n",
            "Redis: 2862\n",
            "Swift: 2746\n",
            "ReactJS: 2541\n",
            "CoffeeScript: 1662\n",
            "Cordova: 1651\n",
            "R: 1632\n",
            "Perl: 1624\n",
            "Matlab: 1602\n",
            "Scala: 1602\n",
            "Go: 1547\n",
            "Windows Phone: 1123\n",
            "Hadoop: 1012\n",
            "SharePoint: 853\n",
            "Haskell: 813\n",
            "Spark: 707\n",
            "Salesforce: 665\n",
            "Cassandra: 663\n",
            "Clojure: 556\n",
            "F#: 484\n",
            "Rust: 436\n",
            "Dart: 222\n"
          ]
        }
      ],
      "source": [
        "# Inicializar un contador\n",
        "language_counter = Counter()\n",
        "\n",
        "# Recorrer cada fila de la columna 'tech_do'\n",
        "for entry in tech_do2016.dropna():  # Excluir valores NaN\n",
        "    languages = entry.split(';')\n",
        "    languages = [language.strip() for language in languages]  # Eliminar espacios en blanco alrededor\n",
        "    language_counter.update(languages)\n",
        "\n",
        "# Mostrar el conteo de cada lenguaje\n",
        "for language, count in language_counter.most_common():\n",
        "    print(f'{language}: {count}')"
      ]
    },
    {
      "cell_type": "code",
      "execution_count": 6,
      "metadata": {
        "id": "QjRqDl0UeqHW"
      },
      "outputs": [],
      "source": [
        "# Inicializar contadores para cada año\n",
        "counter_2016 = Counter()\n",
        "counter_2017 = Counter()\n",
        "counter_2018 = Counter()\n",
        "counter_2019 = Counter()\n",
        "counter_2020 = Counter()\n",
        "counter_2021 = Counter()\n",
        "counter_2022 = Counter()\n",
        "counter_2023 = Counter()\n",
        "\n",
        "\n",
        "# Función para actualizar el contador con los lenguajes de una serie\n",
        "def update_counter(counter, series):\n",
        "    for entry in series.dropna():\n",
        "        languages = entry.split(';')\n",
        "        languages = [language.strip() for language in languages]\n",
        "        counter.update(languages)\n",
        "\n",
        "# Actualizar contadores\n",
        "update_counter(counter_2016, tech_do2016)\n",
        "update_counter(counter_2017, tech_do2017)\n",
        "update_counter(counter_2018, tech_do2018)\n",
        "update_counter(counter_2019, tech_do2019)\n",
        "update_counter(counter_2020, tech_do2020)\n",
        "update_counter(counter_2021, tech_do2021)\n",
        "update_counter(counter_2022, tech_do2022)\n",
        "update_counter(counter_2023, tech_do2023)"
      ]
    },
    {
      "cell_type": "code",
      "execution_count": 7,
      "metadata": {
        "id": "cchjYyXAe6OA"
      },
      "outputs": [],
      "source": [
        "# Crear una lista de todos los lenguajes mencionados\n",
        "all_languages = set(counter_2016.keys()).union(set(counter_2017.keys())).union(set(counter_2018.keys())).union(set(counter_2019.keys())).union(set(counter_2020.keys())).union(set(counter_2021.keys())).union(set(counter_2022.keys())).union(set(counter_2023.keys()))\n",
        "\n",
        "# Crear el DataFrame final con \"Año\" como la primera columna\n",
        "data = {'Año': [2016, 2017, 2018, 2019, 2020, 2021, 2022, 2023]}\n",
        "\n",
        "# Agregar columnas de lenguajes\n",
        "for language in all_languages:\n",
        "    data[language] = []\n"
      ]
    },
    {
      "cell_type": "code",
      "execution_count": 8,
      "metadata": {
        "colab": {
          "base_uri": "https://localhost:8080/"
        },
        "id": "934G_6EQe6_w",
        "outputId": "ad0e0c5c-44b8-451e-e684-4376b1944cb4"
      },
      "outputs": [
        {
          "name": "stdout",
          "output_type": "stream",
          "text": [
            "    Año   Lua     Node.js  Haskell  GDScript  JavaScript  Scala      C     C#  \\\n",
            "0  2016     0  0     8509      813         0       27385   1602   7678  15283   \n",
            "1  2017  1039  0        0      649         0       22875   1309   6974  12476   \n",
            "2  2018  2733  0        0     1961         0       54686   3420  18042  26954   \n",
            "3  2019     0  0        0        0         0       59219   3309  18017  27097   \n",
            "4  2020     0  0        0     1222         0       38822   2052  12487  18041   \n",
            "5  2021     0  0    27975     1749         0       53587   2148  17329  22984   \n",
            "6  2022  2867  3        0     1577         0       46443   1837  13692  19883   \n",
            "7  2023  5336  4        0     1829      1495       55711   2392  16940  24193   \n",
            "\n",
            "   ...  Cloud (AWS, GAE, Azure, etc.)  Clojure  Delphi  COBOL  VB.NET  \\\n",
            "0  ...                           4629      556       0      0       0   \n",
            "1  ...                              0      391       0      0    2273   \n",
            "2  ...                              0     1032       0      0    5254   \n",
            "3  ...                              0     1254       0      0       0   \n",
            "4  ...                              0        0       0      0       0   \n",
            "5  ...                              0     1552    1731    437       0   \n",
            "6  ...                              0     1070    2311    464       0   \n",
            "7  ...                              0     1105    2831      0       0   \n",
            "\n",
            "   Solidity  Crystal  Bash/Shell  MATLAB  ReactJS  \n",
            "0         0        0           0       0     2541  \n",
            "1         0        0           0       0        0  \n",
            "2         0        0       31137       0        0  \n",
            "3         0        0           0       0        0  \n",
            "4         0        0           0       0        0  \n",
            "5         0      466       22385       0        0  \n",
            "6      1031      340       20656    2913        0  \n",
            "7      1134      389           0    3339        0  \n",
            "\n",
            "[8 rows x 105 columns]\n"
          ]
        }
      ],
      "source": [
        "# Agregar conteos al DataFrame\n",
        "for year, counter in zip([2016, 2017, 2018, 2019, 2020, 2021, 2022, 2023], [counter_2016, counter_2017, counter_2018, counter_2019, counter_2020, counter_2021, counter_2022, counter_2023]):\n",
        "    for language in all_languages:\n",
        "        data[language].append(counter[language])\n",
        "\n",
        "final_df = pd.DataFrame(data)\n",
        "\n",
        "# Mostrar el DataFrame final\n",
        "print(final_df)"
      ]
    },
    {
      "cell_type": "code",
      "execution_count": 9,
      "metadata": {
        "colab": {
          "base_uri": "https://localhost:8080/"
        },
        "id": "o9-R7ihvjV1x",
        "outputId": "c0043cc8-d87a-47c0-8313-9723fa960135"
      },
      "outputs": [
        {
          "name": "stdout",
          "output_type": "stream",
          "text": [
            "    Año       Lua   Node.js   Haskell  JavaScript     Scala         C  \\\n",
            "0  2016  0.000000  0.037805  0.003612    0.121671  0.007118  0.034113   \n",
            "1  2017  0.007493  0.000000  0.004680    0.164967  0.009440  0.050294   \n",
            "2  2018  0.005627  0.000000  0.004038    0.112600  0.007042  0.037149   \n",
            "3  2019  0.000000  0.000000  0.000000    0.134434  0.007512  0.040901   \n",
            "4  2020  0.000000  0.000000  0.004243    0.134797  0.007125  0.043357   \n",
            "5  2021  0.000000  0.063212  0.003952    0.121084  0.004854  0.039156   \n",
            "6  2022  0.007795  0.000000  0.004288    0.126276  0.004995  0.037228   \n",
            "7  2023  0.011457  0.000000  0.003927    0.119615  0.005136  0.036371   \n",
            "\n",
            "         C#         R  Assembly  ...    Python  TypeScrip   Clojure    Delphi  \\\n",
            "0  0.067902  0.007251  0.000000  ...  0.054568   0.000000  0.002470  0.000000   \n",
            "1  0.089973  0.011784  0.013147  ...  0.084405   0.000000  0.002820  0.000000   \n",
            "2  0.055499  0.009910  0.011860  ...  0.062510   0.000000  0.002125  0.000000   \n",
            "3  0.061513  0.011460  0.013242  ...  0.082730   0.000000  0.002847  0.000000   \n",
            "4  0.062641  0.011417  0.012337  ...  0.087801   0.000000  0.000000  0.000000   \n",
            "5  0.051934  0.009456  0.010466  ...  0.089913   0.000000  0.003507  0.003911   \n",
            "6  0.054061  0.008994  0.010569  ...  0.092865   0.000008  0.002909  0.006283   \n",
            "7  0.051944  0.007895  0.010205  ...  0.092663   0.000002  0.002373  0.006078   \n",
            "\n",
            "      COBOL    VB.NET  Solidity   Crystal  Bash/Shell    MATLAB  \n",
            "0  0.000000  0.000000  0.000000  0.000000    0.000000  0.000000  \n",
            "1  0.000000  0.016392  0.000000  0.000000    0.000000  0.000000  \n",
            "2  0.000000  0.010818  0.000000  0.000000    0.064112  0.000000  \n",
            "3  0.000000  0.000000  0.000000  0.000000    0.000000  0.000000  \n",
            "4  0.000000  0.000000  0.000000  0.000000    0.000000  0.000000  \n",
            "5  0.000987  0.000000  0.000000  0.001053    0.050581  0.000000  \n",
            "6  0.001262  0.000000  0.002803  0.000924    0.056162  0.007920  \n",
            "7  0.000000  0.000000  0.002435  0.000835    0.000000  0.007169  \n",
            "\n",
            "[8 rows x 52 columns]\n"
          ]
        }
      ],
      "source": [
        "# Normalizar cada fila para que la suma de los valores sea 1\n",
        "language_columns = final_df.columns[1:]  # Excluir la primera columna que es 'Año'\n",
        "final_df[language_columns] = final_df[language_columns].div(final_df[language_columns].sum(axis=1), axis=0)\n",
        "language_columns = final_df.columns[1:]\n",
        "# Eliminar columnas con un solo valor en todas las filas\n",
        "for language in language_columns:\n",
        "    if final_df[language].nunique() == 2:\n",
        "        final_df = final_df.drop(language, axis=1)\n",
        "\n",
        "final_df = final_df.drop('', axis=1)\n",
        "print(final_df)"
      ]
    },
    {
      "cell_type": "code",
      "execution_count": 10,
      "metadata": {
        "id": "2-_m91nAe9Yf"
      },
      "outputs": [],
      "source": [
        "# Guardar el DataFrame en un archivo CSV\n",
        "final_df.to_csv('conteo_lenguajes_por_año.csv', index=False)"
      ]
    }
  ],
  "metadata": {
    "colab": {
      "provenance": []
    },
    "kernelspec": {
      "display_name": "base",
      "language": "python",
      "name": "python3"
    },
    "language_info": {
      "codemirror_mode": {
        "name": "ipython",
        "version": 3
      },
      "file_extension": ".py",
      "mimetype": "text/x-python",
      "name": "python",
      "nbconvert_exporter": "python",
      "pygments_lexer": "ipython3",
      "version": "3.10.9"
    }
  },
  "nbformat": 4,
  "nbformat_minor": 0
}
